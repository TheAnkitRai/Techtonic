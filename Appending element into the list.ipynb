{
 "cells": [
  {
   "cell_type": "code",
   "execution_count": 1,
   "id": "f45939f2",
   "metadata": {},
   "outputs": [],
   "source": [
    "# Creating list\n",
    "L = [1, 2, 3, 4, 5]"
   ]
  },
  {
   "cell_type": "markdown",
   "id": "495e8981",
   "metadata": {},
   "source": [
    "### Appending elements to the list"
   ]
  },
  {
   "cell_type": "code",
   "execution_count": 2,
   "id": "3542b0a1",
   "metadata": {},
   "outputs": [
    {
     "name": "stdout",
     "output_type": "stream",
     "text": [
      "Element appended\n"
     ]
    }
   ],
   "source": [
    "L.append(7)\n",
    "print(\"Element appended\")"
   ]
  },
  {
   "cell_type": "code",
   "execution_count": 3,
   "id": "4affab24",
   "metadata": {},
   "outputs": [
    {
     "data": {
      "text/plain": [
       "[1, 2, 3, 4, 5, 7]"
      ]
     },
     "execution_count": 3,
     "metadata": {},
     "output_type": "execute_result"
    }
   ],
   "source": [
    "# Displaying the list to check if element is inserted or not\n",
    "L"
   ]
  }
 ],
 "metadata": {
  "kernelspec": {
   "display_name": "Python 3 (ipykernel)",
   "language": "python",
   "name": "python3"
  },
  "language_info": {
   "codemirror_mode": {
    "name": "ipython",
    "version": 3
   },
   "file_extension": ".py",
   "mimetype": "text/x-python",
   "name": "python",
   "nbconvert_exporter": "python",
   "pygments_lexer": "ipython3",
   "version": "3.9.7"
  }
 },
 "nbformat": 4,
 "nbformat_minor": 5
}
